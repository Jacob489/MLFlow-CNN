{
 "cells": [
  {
   "cell_type": "markdown",
   "id": "ad57e6aa-2e22-4913-95ae-870ef21b0a3d",
   "metadata": {},
   "source": [
    "# Import Required Libraries\n",
    "\n",
    "In this cell, we import the standard Python libraries used in the script.\n",
    "\n",
    "* os, sys: For interacting with the operating system and managing environment variables.\n",
    "* subprocess: To start the MLFlow UI server as a separate process.\n",
    "* webbrowser & time: To automatically open the MLFlow UI in a browser after a short delay.\n",
    "* argparse: For parsing command-line arguments.\n",
    "* socket: To find free ports (if needed)."
   ]
  },
  {
   "cell_type": "code",
   "execution_count": null,
   "id": "5afbf80a-2ef7-4dde-9c64-a1154752a6c2",
   "metadata": {},
   "outputs": [],
   "source": [
    "import os\n",
    "import subprocess\n",
    "import webbrowser\n",
    "import time\n",
    "import argparse\n",
    "import socket\n",
    "import sys\n"
   ]
  },
  {
   "cell_type": "markdown",
   "id": "f7af2a54-a866-4b41-bc36-9b931d5987b8",
   "metadata": {},
   "source": [
    "# Utility Function to Find a Free Port\n",
    "\n",
    "This cell defines a helper function find_free_port() that finds an available port on the local machine.\n",
    "This can be useful when you want to automatically assign a port for the MLFlow UI server if one is not specified."
   ]
  },
  {
   "cell_type": "code",
   "execution_count": null,
   "id": "3f0c3fec-2d4f-4bc5-b87c-e9ec3e5a379c",
   "metadata": {},
   "outputs": [],
   "source": [
    "def find_free_port():\n",
    "    \"\"\"Find a free port on the current host.\"\"\"\n",
    "    with socket.socket(socket.AF_INET, socket.SOCK_STREAM) as s:\n",
    "        s.bind(('', 0))\n",
    "        return s.getsockname()[1]\n"
   ]
  },
  {
   "cell_type": "markdown",
   "id": "fbc5525a-0d59-4d6a-9f21-719f7222adb8",
   "metadata": {},
   "source": [
    "# Define the Function to Launch the MLFlow UI\n",
    "\n",
    "This cell defines the key function launch_mlflow_ui() which performs the following tasks:\n",
    "\n",
    "* Tracking URI Setup: It sets the MLFLOW_TRACKING_URI environment variable to point to the shared MLflow run directory.\n",
    "* Command Construction: It builds the command for launching the MLFlow UI with specified port and host.\n",
    "* Browser Launch: If the open_browser flag is true, it starts a separate thread that waits for 2 seconds (allowing the server to start) and then opens the MLFlow UI in the default web browser.\n",
    "* Process Handling: It runs the MLFlow UI server as a subprocess and waits for it to terminate, handling graceful shutdown on a keyboard interrupt."
   ]
  },
  {
   "cell_type": "code",
   "execution_count": null,
   "id": "cafb5c3b-050d-48ee-a15b-321414759dbd",
   "metadata": {},
   "outputs": [],
   "source": [
    "def launch_mlflow_ui(tracking_uri, port=None, host='0.0.0.0', open_browser=True):\n",
    "    \"\"\"\n",
    "    Launch the MLFlow UI server.\n",
    "    \n",
    "    Args:\n",
    "        tracking_uri: MLFlow tracking URI\n",
    "        port: Port to use (None for auto-select)\n",
    "        host: Host to bind to\n",
    "        open_browser: Whether to open a browser window\n",
    "    \n",
    "    Returns:\n",
    "        The subprocess running the MLFlow UI server\n",
    "    \"\"\"\n",
    "    if port is None:\n",
    "        port = 5000  # Default MLFlow UI port\n",
    "\n",
    "    # Set the tracking URI environment variable so MLFlow UI knows where to find run data\n",
    "    os.environ['MLFLOW_TRACKING_URI'] = \"file:///shared/mlruns\"\n",
    "\n",
    "    # Construct the MLFlow UI command with the chosen port and host settings\n",
    "    cmd = [\"mlflow\", \"ui\", \"--port\", str(port), \"--host\", host]\n",
    "    \n",
    "    print(f\"Launching MLFlow UI with tracking URI: {tracking_uri}\")\n",
    "    print(f\"Server will be available at: http://{host}:{port}\")\n",
    "    \n",
    "    if open_browser:\n",
    "        # Open browser after a short delay to allow the server to start\n",
    "        def open_browser_delayed():\n",
    "            time.sleep(2)\n",
    "            url = f\"http://localhost:{port}\"\n",
    "            print(f\"Opening browser at {url}\")\n",
    "            webbrowser.open(url)\n",
    "        \n",
    "        import threading\n",
    "        browser_thread = threading.Thread(target=open_browser_delayed)\n",
    "        browser_thread.daemon = True\n",
    "        browser_thread.start()\n",
    "    \n",
    "    # Launch the MLFlow UI server as a subprocess\n",
    "    process = subprocess.Popen(cmd)\n",
    "    \n",
    "    print(\"\\nMLFlow UI server running. Press Ctrl+C to stop.\")\n",
    "    try:\n",
    "        process.wait()\n",
    "    except KeyboardInterrupt:\n",
    "        print(\"\\nStopping MLFlow UI server...\")\n",
    "        process.terminate()\n",
    "        process.wait()\n",
    "        print(\"Server stopped.\")\n",
    "    \n",
    "    return process\n"
   ]
  },
  {
   "cell_type": "markdown",
   "id": "8605f74d-cf11-469d-8118-825af207b7b3",
   "metadata": {},
   "source": [
    "# Define Function to Print SSH Tunnel Instructions\n",
    "\n",
    "This cell defines print_ssh_tunnel_command(), a helper function that prints out a command for setting up an SSH tunnel. This is particularly useful if the MLFlow UI server is running on a remote machine. The printed command instructs the user on how to forward the server's port to their local machine, enabling easy access via a local browser."
   ]
  },
  {
   "cell_type": "code",
   "execution_count": null,
   "id": "ff0da280-c756-47d4-95ff-b3143bcd4625",
   "metadata": {},
   "outputs": [],
   "source": [
    "def print_ssh_tunnel_command(port):\n",
    "    \"\"\"Print SSH tunnel command for remote access.\"\"\"\n",
    "    print(\"\\n---- For Remote Access ----\")\n",
    "    print(\"If this server is running remotely, you can access it using SSH tunneling.\")\n",
    "    print(\"Run this command on your local machine:\")\n",
    "    print(f\"  ssh -N -L {port}:localhost:{port} username@remote-server\")\n",
    "    print(\"Then open http://localhost:{port} in your local browser.\")\n",
    "    print(\"--------------------------\")\n"
   ]
  },
  {
   "cell_type": "markdown",
   "id": "4eb9f25d-99e4-442c-bf8f-db1d28597fec",
   "metadata": {},
   "source": [
    "# Parse Command-Line Arguments and Launch MLFlow UI\n",
    "\n",
    "In the final cell, the script checks if it is being run as the main module. It then:\n",
    "\n",
    "* Parses Command-Line Arguments: Uses argparse to define options for port, host, browser launching, and tracking URI.\n",
    "* Default Tracking URI: Sets a default tracking URI if one isn’t provided, ensuring that MLFlow knows where to find the run data.\n",
    "* SSH Tunnel Instructions: If a port is provided, it prints SSH tunneling instructions to help with remote access.\n",
    "* Launch MLFlow UI: Finally, it calls launch_mlflow_ui() with the parsed parameters to start the MLFlow UI server.\n",
    "* This setup allows the MLFlow UI server to be launched in a flexible and user-friendly manner, ideal for presentations or remote access demonstrations."
   ]
  },
  {
   "cell_type": "code",
   "execution_count": null,
   "id": "403b7eab-db0d-4b42-8fa8-5fcfd0c15c6d",
   "metadata": {},
   "outputs": [],
   "source": [
    "if __name__ == \"__main__\":\n",
    "    parser = argparse.ArgumentParser(description=\"Launch MLFlow UI for presentation\")\n",
    "    parser.add_argument('--port', type=int, default=None,\n",
    "                        help=\"Port to run MLFlow UI on (default: auto-select)\")\n",
    "    parser.add_argument('--host', type=str, default=\"0.0.0.0\",\n",
    "                        help=\"Host to run MLFlow UI on (default: 0.0.0.0)\")\n",
    "    parser.add_argument('--no-browser', action='store_true',\n",
    "                        help=\"Don't open a browser window\")\n",
    "    parser.add_argument('--tracking_uri', type=str, default=None,\n",
    "                        help=\"MLFlow tracking URI (default: auto-detect)\")\n",
    "    \n",
    "    args = parser.parse_args()\n",
    "    \n",
    "    # Auto-detect tracking URI if not provided\n",
    "    if args.tracking_uri is None:\n",
    "        args.tracking_uri = \"file:///shared/mlruns\"\n",
    "\n",
    "    # If a port is specified, print SSH tunneling instructions for remote access\n",
    "    if args.port:\n",
    "        print_ssh_tunnel_command(args.port)\n",
    "    \n",
    "    # Launch the MLFlow UI with the specified parameters\n",
    "    launch_mlflow_ui(\n",
    "        tracking_uri=args.tracking_uri,  # Use the provided tracking URI or default to shared directory\n",
    "        port=args.port,\n",
    "        host=args.host,  # Host binding allows remote access if needed\n",
    "        open_browser=not args.no_browser\n",
    "    )\n"
   ]
  }
 ],
 "metadata": {
  "kernelspec": {
   "display_name": "Python 3 (ipykernel)",
   "language": "python",
   "name": "python3"
  },
  "language_info": {
   "codemirror_mode": {
    "name": "ipython",
    "version": 3
   },
   "file_extension": ".py",
   "mimetype": "text/x-python",
   "name": "python",
   "nbconvert_exporter": "python",
   "pygments_lexer": "ipython3",
   "version": "3.12.6"
  }
 },
 "nbformat": 4,
 "nbformat_minor": 5
}
